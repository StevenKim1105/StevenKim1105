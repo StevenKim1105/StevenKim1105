{
  "cells": [
    {
      "cell_type": "markdown",
      "metadata": {
        "id": "view-in-github",
        "colab_type": "text"
      },
      "source": [
        "<a href=\"https://colab.research.google.com/github/StevenKim1105/StevenKim1105/blob/main/tutorial_quick_start.ipynb\" target=\"_parent\"><img src=\"https://colab.research.google.com/assets/colab-badge.svg\" alt=\"Open In Colab\"/></a>"
      ]
    },
    {
      "cell_type": "markdown",
      "metadata": {
        "id": "sxa9X58bAxiR"
      },
      "source": [
        "# MHPI tutorial\n",
        "\n",
        "This code contains deep learning code used to model hydrologic systems from soil moisture to streamflow or from projection to forecast.\n",
        "\n",
        "[![PyPI](https://img.shields.io/badge/pypi-version%200.1-blue)](https://pypi.org/project/hydroDL/0.1.0/)  [![DOI](https://zenodo.org/badge/DOI/10.5281/zenodo.3993880.svg)](https://doi.org/10.5281/zenodo.3993880) [![CodeStyle](https://img.shields.io/badge/code%20style-Black-black)]()\n"
      ]
    },
    {
      "cell_type": "markdown",
      "metadata": {
        "id": "RrjWh0GfAX4i"
      },
      "source": [
        "Welcome to our hydroDL tutorial at The Pennsylvania State University! The following notebook is designed to provide a quick start to our project and get you ready to write your own neural networks."
      ]
    },
    {
      "cell_type": "markdown",
      "metadata": {
        "id": "BRshS8bUA8sW"
      },
      "source": [
        "# git repo"
      ]
    },
    {
      "cell_type": "code",
      "execution_count": 1,
      "metadata": {
        "colab": {
          "base_uri": "https://localhost:8080/"
        },
        "id": "gftzyvBOBEBJ",
        "outputId": "f3116343-6555-4b48-eeda-a5bd46935999"
      },
      "outputs": [
        {
          "output_type": "stream",
          "name": "stdout",
          "text": [
            "Cloning into 'hydroDL'...\n",
            "remote: Enumerating objects: 1046, done.\u001b[K\n",
            "remote: Counting objects: 100% (86/86), done.\u001b[K\n",
            "remote: Compressing objects: 100% (76/76), done.\u001b[K\n",
            "remote: Total 1046 (delta 46), reused 19 (delta 10), pack-reused 960\u001b[K\n",
            "Receiving objects: 100% (1046/1046), 60.67 MiB | 30.82 MiB/s, done.\n",
            "Resolving deltas: 100% (429/429), done.\n"
          ]
        }
      ],
      "source": [
        "import os\n",
        "os.chdir(\"/content/\")\n",
        "!rm -rf hydroDL\n",
        "!git clone https://github.com/mhpi/hydroDL.git\n",
        "!mv hydroDL/hydroDL/* hydroDL"
      ]
    },
    {
      "cell_type": "code",
      "execution_count": 2,
      "metadata": {
        "id": "MCOznl7tB-jY",
        "colab": {
          "base_uri": "https://localhost:8080/"
        },
        "outputId": "d8165567-7cdd-403b-c3c3-97e91ba77016"
      },
      "outputs": [
        {
          "output_type": "stream",
          "name": "stdout",
          "text": [
            "loading package hydroDL\n"
          ]
        }
      ],
      "source": [
        "# import Libraries\n",
        "\n",
        "import os\n",
        "import sys\n",
        "os.chdir(\"/content/hydroDL\")\n",
        "sys.path.append('..')\n",
        "import torch\n",
        "import numpy as np\n",
        "from hydroDL.master.master import loadModel\n",
        "from hydroDL.model.crit import RmseLoss\n",
        "from hydroDL.model.rnn import CudnnLstmModel as LSTM\n",
        "from hydroDL.model.rnn import CpuLstmModel as LSTM_CPU\n",
        "from hydroDL.model.train import trainModel\n",
        "from hydroDL.model.test import testModel\n",
        "from hydroDL.post.stat import statError as cal_metric\n",
        "from hydroDL.data.load_csv import LoadCSV\n",
        "from hydroDL.utils.norm import re_folder, trans_norm\n"
      ]
    },
    {
      "cell_type": "code",
      "execution_count": 3,
      "metadata": {
        "id": "kbA0YBjCCSXu"
      },
      "outputs": [],
      "source": [
        "# set configuration\n",
        "output_s = \"./output/quick_start/\"  # output path\n",
        "csv_path_s = \"/content/hydroDL/example/demo_data\"  # demo data path\n",
        "all_date_list = [\"2015-04-01\", \"2017-03-31\"]  # demo data time period\n",
        "train_date_list = [\"2015-04-01\", \"2016-03-31\"]  # training period\n",
        "# time series variables list\n",
        "var_time_series = [\"VGRD_10_FORA\", \"DLWRF_FORA\", \"UGRD_10_FORA\", \"DSWRF_FORA\", \"TMP_2_FORA\", \"SPFH_2_FORA\", \"APCP_FORA\", ]\n",
        "# constant variables list\n",
        "var_constant = [\"flag_extraOrd\", \"Clay\", \"Bulk\", \"Sand\", \"flag_roughness\", \"flag_landcover\", \"flag_vegDense\", \"Silt\", \"NDVI\",\n",
        "         \"flag_albedo\", \"flag_waterbody\", \"Capa\", ]\n",
        "# target variable list\n",
        "target = [\"SMAP_AM\"]\n",
        "# generate output folder\n",
        "re_folder(output_s)"
      ]
    },
    {
      "cell_type": "code",
      "execution_count": 5,
      "metadata": {
        "id": "Uh-d9B-vCgvR"
      },
      "outputs": [],
      "source": [
        "# hyperparameter\n",
        "EPOCH = 100 # 100 times\n",
        "BATCH_SIZE = 50 # for every iteration; epoch\n",
        "RHO = 30 # how long the sequence will be; if streamflow, 365 - much longer memory required\n",
        "HIDDEN_SIZE = 256 # bigger network, bigger number\n"
      ]
    },
    {
      "cell_type": "markdown",
      "metadata": {
        "id": "jQ0w6lYNCnLc"
      },
      "source": [
        "You can change it with your data. The data structure is as follows:\n",
        "\n",
        "x_train (forcing data, e.g. precipitation, temperature ...): [pixels, time, features] \n",
        "\n",
        "c_train (constant data, e.g. soil properties, land cover ...): [pixels, features]\n",
        "\n",
        "target (e.g. soil moisture, streamflow ...): [pixels, time, 1]\n",
        "\n",
        "Data type: numpy.float"
      ]
    },
    {
      "cell_type": "code",
      "execution_count": 6,
      "metadata": {
        "id": "K3-E0_ahCqln"
      },
      "outputs": [],
      "source": [
        "# load your datasets\n",
        "train_csv = LoadCSV(csv_path_s, train_date_list, all_date_list)\n",
        "x_train = train_csv.load_time_series(var_time_series)  # data size: [pixels, time, features]\n",
        "c_train = train_csv.load_constant(\n",
        "    var_constant, convert_time_series=False\n",
        ")  # [pixels, features]\n",
        "y_train = train_csv.load_time_series(target, remove_nan=False)  # [pixels, time, 1]"
      ]
    },
    {
      "cell_type": "code",
      "source": [
        "print(x_train.shape)\n",
        "\n",
        "print(c_train.shape) # no time; since it is time-independent (not time-dependent); constant\n",
        "\n",
        "print(y_train.shape)\n"
      ],
      "metadata": {
        "colab": {
          "base_uri": "https://localhost:8080/"
        },
        "id": "azpLQELPZ9LS",
        "outputId": "ae901a11-b846-43f8-fa5f-4ba4eb2f09db"
      },
      "execution_count": 8,
      "outputs": [
        {
          "output_type": "stream",
          "name": "stdout",
          "text": [
            "(412, 366, 7)\n",
            "(412, 12)\n",
            "(412, 366, 1)\n"
          ]
        }
      ]
    },
    {
      "cell_type": "code",
      "source": [
        "y_train[1,:,0]"
      ],
      "metadata": {
        "colab": {
          "base_uri": "https://localhost:8080/"
        },
        "id": "qKI7Pudrm4PQ",
        "outputId": "b4b751d5-ad3e-40cc-a595-81b3f6a3a9e3"
      },
      "execution_count": 9,
      "outputs": [
        {
          "output_type": "execute_result",
          "data": {
            "text/plain": [
              "array([ 2.80286782,         nan,  2.81016486,  2.6255408 ,         nan,\n",
              "        2.74983874,         nan,         nan,  2.70711782,         nan,\n",
              "        3.14663988,  2.77890012,         nan,  2.98685731,         nan,\n",
              "               nan,  2.11992055,         nan,  2.58472858,  2.15346136,\n",
              "               nan,  1.84595256,         nan,         nan,  1.92205748,\n",
              "               nan,  1.87244605,  1.47171021,         nan,  1.75877124,\n",
              "               nan,         nan,  1.29849423,         nan,  1.58029246,\n",
              "        0.95487504,         nan,  1.0380293 ,         nan,         nan,\n",
              "        0.98722074,         nan,         nan,         nan,         nan,\n",
              "        1.34121515,         nan,         nan,  1.06385129,         nan,\n",
              "        1.37390304,  1.26678976,         nan,  1.12265831,         nan,\n",
              "               nan,  0.63321267,         nan,  1.05244253,  1.00917294,\n",
              "               nan,  2.0738732 ,         nan,         nan,  0.96183452,\n",
              "               nan,  1.08690692,  0.41514986,         nan,  0.85648082,\n",
              "               nan,         nan,  0.59247575,         nan,  0.64850229,\n",
              "        0.26179426,         nan,         nan,         nan,         nan,\n",
              "        0.05143964,         nan,  0.4095039 ,  0.02072176,         nan,\n",
              "       -0.15621499,         nan,         nan,  0.09335902,         nan,\n",
              "        0.30907126,  0.01153984,         nan,  0.27120219,         nan,\n",
              "               nan, -0.09940282,         nan,  0.39193719,  0.02174583,\n",
              "               nan, -0.01922828,         nan,         nan, -0.03201459,\n",
              "               nan,  0.34002746, -0.06687388,         nan,  0.03365449,\n",
              "               nan,         nan, -0.08491486,         nan,  0.25426488,\n",
              "       -0.05400291,         nan,  0.08342442,         nan,         nan,\n",
              "       -0.04804672,         nan, -0.14491279, -0.2904193 ,         nan,\n",
              "        0.15080396,         nan,         nan, -0.04072822,         nan,\n",
              "        0.06626335, -0.21000396,         nan, -0.12450194,         nan,\n",
              "               nan,  0.0056323 ,         nan,  0.01508574, -0.09565122,\n",
              "               nan, -0.01938848,         nan,         nan, -0.16770594,\n",
              "               nan,  0.15279384, -0.07943259,         nan, -0.10604891,\n",
              "               nan,         nan,  1.17736896,         nan,  0.95442617,\n",
              "        0.45206586,         nan,  1.00788527,         nan,         nan,\n",
              "        0.33357972,         nan,  0.46876091,  0.28799546,         nan,\n",
              "        0.29360495,         nan,         nan,  0.47006664,         nan,\n",
              "        1.46393754,  1.1523878 ,         nan,  0.89301039,         nan,\n",
              "               nan,  0.33298624,         nan,  1.74170714,  1.28493494,\n",
              "               nan,  0.67940577,         nan,         nan,  0.37751765,\n",
              "               nan,  0.51076924,  0.48822514,         nan,  0.23374384,\n",
              "               nan,         nan,  0.23549788,         nan,  1.22511582,\n",
              "        0.74304218,         nan,  0.73802584,         nan,         nan,\n",
              "        0.55891722,         nan,  1.51356579,  1.35154047,         nan,\n",
              "        0.9184841 ,         nan,         nan,  2.39561425,         nan,\n",
              "        3.05671815,  2.26608885,         nan,  2.34123055,         nan,\n",
              "               nan,  2.72700348,         nan,  2.60840163,  2.60504449,\n",
              "               nan,  2.64631472,         nan,         nan,  2.87970667,\n",
              "               nan,  2.54847729,  2.82945625,         nan,  3.27512891,\n",
              "               nan,         nan,  3.31366947,         nan,         nan,\n",
              "        3.2168105 ,         nan,  2.87872257,         nan,         nan,\n",
              "        1.91152522,         nan,         nan,  1.06402628,         nan,\n",
              "        2.0130999 ,         nan,         nan,  3.38548169,         nan,\n",
              "               nan,         nan,         nan,         nan,         nan,\n",
              "               nan,         nan,         nan,         nan,         nan,\n",
              "               nan,         nan,         nan,         nan,         nan,\n",
              "               nan,         nan,         nan,         nan,  3.08521823,\n",
              "               nan,         nan,  3.43694797,         nan,  2.96270446,\n",
              "        1.864818  ,         nan,         nan,         nan,         nan,\n",
              "        2.87424947,         nan,  2.92192453,  2.68706767,         nan,\n",
              "        2.81194532,         nan,         nan,         nan,         nan,\n",
              "               nan,         nan,         nan,         nan,         nan,\n",
              "               nan,         nan,         nan,         nan,         nan,\n",
              "               nan,         nan,         nan,         nan,         nan,\n",
              "               nan,         nan,         nan,         nan,         nan,\n",
              "               nan,         nan,         nan,         nan,         nan,\n",
              "               nan,         nan,  3.03459345,         nan,         nan,\n",
              "               nan,         nan,  3.47398354,         nan,         nan,\n",
              "               nan,         nan,         nan,         nan,         nan,\n",
              "        3.50025327,         nan,         nan,         nan,         nan,\n",
              "               nan,         nan,         nan,         nan,         nan,\n",
              "               nan,         nan,         nan,         nan,         nan,\n",
              "               nan,         nan,         nan,         nan,         nan,\n",
              "               nan,         nan,         nan,         nan,         nan,\n",
              "               nan,         nan,         nan,         nan,         nan,\n",
              "               nan,         nan,         nan,         nan,         nan,\n",
              "        3.40196043])"
            ]
          },
          "metadata": {},
          "execution_count": 9
        }
      ]
    },
    {
      "cell_type": "code",
      "execution_count": 10,
      "metadata": {
        "id": "mG1860NfC1kp"
      },
      "outputs": [],
      "source": [
        "# define model and loss function\n",
        "loss_fn = RmseLoss()  # loss function\n",
        "# select model: GPU or CPU\n",
        "if torch.cuda.is_available():\n",
        "    LSTM = LSTM\n",
        "else:\n",
        "    LSTM = LSTM_CPU\n",
        "model = LSTM(nx=len(var_time_series) + len(var_constant), ny=len(target), hiddenSize=HIDDEN_SIZE)"
      ]
    },
    {
      "cell_type": "code",
      "source": [
        "print(LSTM)"
      ],
      "metadata": {
        "colab": {
          "base_uri": "https://localhost:8080/"
        },
        "id": "L0Qh8AxU7xku",
        "outputId": "bd5ee8c2-51ff-4256-f08a-d163b8f62c74"
      },
      "execution_count": 11,
      "outputs": [
        {
          "output_type": "stream",
          "name": "stdout",
          "text": [
            "<class 'hydroDL.model.rnn.CudnnLstmModel.CudnnLstmModel'>\n"
          ]
        }
      ]
    },
    {
      "cell_type": "code",
      "execution_count": 12,
      "metadata": {
        "colab": {
          "base_uri": "https://localhost:8080/"
        },
        "id": "fU3jpJmFC6FB",
        "outputId": "72f3e7bd-6f70-4f3c-ec37-b11c06d62c25"
      },
      "outputs": [
        {
          "output_type": "stream",
          "name": "stderr",
          "text": [
            "Training CudnnLstmModel:   0%|          | 0/100 [00:00<?, ?it/s]/content/hydroDL/model/rnn/CudnnLstm.py:104: UserWarning: RNN module weights are not part of single contiguous chunk of memory. This means they need to be compacted at every call, possibly greatly increasing memory usage. To compact weights again call flatten_parameters(). (Triggered internally at ../aten/src/ATen/native/cudnn/RNN.cpp:968.)\n",
            "  output, hy, cy, reserve, new_weight_buf = torch._cudnn_rnn(\n",
            "Training CudnnLstmModel: 100%|██████████| 100/100 [05:21<00:00,  3.22s/it, loss=0.311]\n"
          ]
        }
      ],
      "source": [
        "# training the model\n",
        "last_model = trainModel(\n",
        "    model,\n",
        "    x_train,\n",
        "    y_train,\n",
        "    c_train,\n",
        "    loss_fn,\n",
        "    nEpoch=EPOCH,\n",
        "    miniBatch=[BATCH_SIZE, RHO],\n",
        "    saveEpoch=1,\n",
        "    saveFolder=output_s,\n",
        ")"
      ]
    },
    {
      "cell_type": "code",
      "execution_count": 13,
      "metadata": {
        "id": "OPy8TFeRC-lX"
      },
      "outputs": [],
      "source": [
        "# load validation datasets\n",
        "val_date_list = [\"2016-04-01\", \"2017-03-31\"]  # validation period\n",
        "# load your data. same as training data\n",
        "val_csv = LoadCSV(csv_path_s, val_date_list, all_date_list)\n",
        "x_val = val_csv.load_time_series(var_time_series)\n",
        "c_val = val_csv.load_constant(var_constant, convert_time_series=False)\n",
        "y_val = val_csv.load_time_series(target, remove_nan=False)"
      ]
    },
    {
      "cell_type": "code",
      "execution_count": 14,
      "metadata": {
        "colab": {
          "base_uri": "https://localhost:8080/"
        },
        "id": "5hNzFRnGC_m0",
        "outputId": "07fa4260-ef62-44cf-d0ae-008bd021a650"
      },
      "outputs": [
        {
          "output_type": "stream",
          "name": "stdout",
          "text": [
            "Epoch 100: ['Median Bias: -0.01', 'Median RMSE: 0.03', 'Median ubRMSE: 0.03', 'Median Corr: 0.84']\n"
          ]
        },
        {
          "output_type": "stream",
          "name": "stderr",
          "text": [
            "/usr/local/lib/python3.8/dist-packages/scipy/stats/stats.py:4023: PearsonRConstantInputWarning: An input array is constant; the correlation coefficient is not defined.\n",
            "  warnings.warn(PearsonRConstantInputWarning())\n"
          ]
        }
      ],
      "source": [
        "# Select the epoch you want to validate.\n",
        "val_epoch = 100\n",
        "test_model = loadModel(output_s, epoch=val_epoch)\n",
        "\n",
        "# set the path to save result\n",
        "save_csv = os.path.join(output_s, \"predict.csv\")\n",
        "\n",
        "# validation\n",
        "pred_val = testModel(\n",
        "    test_model, x_val, c_val, batchSize=len(x_train), filePathLst=[save_csv],\n",
        ")\n",
        "\n",
        "# select the metrics\n",
        "metrics_list = [\"Bias\", \"RMSE\", \"ubRMSE\", \"Corr\"]\n",
        "pred_val = pred_val.numpy()\n",
        "# denormalization\n",
        "pred_val = trans_norm(pred_val, csv_path_s, var_s=target[0], from_raw=False)\n",
        "y_val = trans_norm(y_val, csv_path_s, var_s=target[0], from_raw=False)\n",
        "pred_val, y_val = np.squeeze(pred_val), np.squeeze(y_val)\n",
        "metrics_dict = cal_metric(pred_val, y_val)  # calculate the metrics\n",
        "metrics = [\n",
        "    \"Median {}: {:.2f}\".format(x, np.nanmedian(metrics_dict[x]))\n",
        "    for x in metrics_list\n",
        "]\n",
        "print(\"Epoch {}: {}\".format(val_epoch, metrics))\n",
        "# LSTM tutorial URL: bit.ly/3Fvnwyp"
      ]
    }
  ],
  "metadata": {
    "accelerator": "GPU",
    "colab": {
      "provenance": [],
      "include_colab_link": true
    },
    "kernelspec": {
      "display_name": "Python 3",
      "name": "python3"
    },
    "language_info": {
      "name": "python"
    }
  },
  "nbformat": 4,
  "nbformat_minor": 0
}